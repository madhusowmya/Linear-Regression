{
 "cells": [
  {
   "cell_type": "code",
   "execution_count": 1,
   "metadata": {},
   "outputs": [],
   "source": [
    "import pandas as pd\n",
    "import numpy as np\n",
    "import matplotlib.pyplot as plt\n",
    "import seaborn as sns\n",
    "%matplotlib inline"
   ]
  },
  {
   "cell_type": "code",
   "execution_count": 4,
   "metadata": {},
   "outputs": [
    {
     "name": "stdout",
     "output_type": "stream",
     "text": [
      "       instant  hr  mnth  temp  weekday   hum  windspeed\n",
      "0            1   0     1  0.24        6  0.81     0.0000\n",
      "1            2   1     1  0.22        6  0.80     0.0000\n",
      "2            3   2     1  0.22        6  0.80     0.0000\n",
      "3            4   3     1  0.24        6  0.75     0.0000\n",
      "4            5   4     1  0.24        6  0.75     0.0000\n",
      "...        ...  ..   ...   ...      ...   ...        ...\n",
      "17374    17375  19    12  0.26        1  0.60     0.1642\n",
      "17375    17376  20    12  0.26        1  0.60     0.1642\n",
      "17376    17377  21    12  0.26        1  0.60     0.1642\n",
      "17377    17378  22    12  0.26        1  0.56     0.1343\n",
      "17378    17379  23    12  0.26        1  0.65     0.1343\n",
      "\n",
      "[17379 rows x 7 columns]\n"
     ]
    }
   ],
   "source": [
    "data = pd.read_excel (r'C:\\Users\\madhu\\Downloads\\BikeSharing.xlsx')\n",
    "df = pd.DataFrame(data, columns= ['instant','hr','mnth','temp','weekday','hum','windspeed'])\n",
    "print (df)"
   ]
  },
  {
   "cell_type": "code",
   "execution_count": 3,
   "metadata": {
    "scrolled": true
   },
   "outputs": [
    {
     "data": {
      "text/html": [
       "<div>\n",
       "<style scoped>\n",
       "    .dataframe tbody tr th:only-of-type {\n",
       "        vertical-align: middle;\n",
       "    }\n",
       "\n",
       "    .dataframe tbody tr th {\n",
       "        vertical-align: top;\n",
       "    }\n",
       "\n",
       "    .dataframe thead th {\n",
       "        text-align: right;\n",
       "    }\n",
       "</style>\n",
       "<table border=\"1\" class=\"dataframe\">\n",
       "  <thead>\n",
       "    <tr style=\"text-align: right;\">\n",
       "      <th></th>\n",
       "      <th>instant</th>\n",
       "      <th>hr</th>\n",
       "      <th>mnth</th>\n",
       "      <th>temp</th>\n",
       "      <th>weekday</th>\n",
       "      <th>hum</th>\n",
       "      <th>windspeed</th>\n",
       "    </tr>\n",
       "  </thead>\n",
       "  <tbody>\n",
       "    <tr>\n",
       "      <th>0</th>\n",
       "      <td>1</td>\n",
       "      <td>0</td>\n",
       "      <td>1</td>\n",
       "      <td>0.24</td>\n",
       "      <td>6</td>\n",
       "      <td>0.81</td>\n",
       "      <td>0.0</td>\n",
       "    </tr>\n",
       "    <tr>\n",
       "      <th>1</th>\n",
       "      <td>2</td>\n",
       "      <td>1</td>\n",
       "      <td>1</td>\n",
       "      <td>0.22</td>\n",
       "      <td>6</td>\n",
       "      <td>0.80</td>\n",
       "      <td>0.0</td>\n",
       "    </tr>\n",
       "    <tr>\n",
       "      <th>2</th>\n",
       "      <td>3</td>\n",
       "      <td>2</td>\n",
       "      <td>1</td>\n",
       "      <td>0.22</td>\n",
       "      <td>6</td>\n",
       "      <td>0.80</td>\n",
       "      <td>0.0</td>\n",
       "    </tr>\n",
       "    <tr>\n",
       "      <th>3</th>\n",
       "      <td>4</td>\n",
       "      <td>3</td>\n",
       "      <td>1</td>\n",
       "      <td>0.24</td>\n",
       "      <td>6</td>\n",
       "      <td>0.75</td>\n",
       "      <td>0.0</td>\n",
       "    </tr>\n",
       "    <tr>\n",
       "      <th>4</th>\n",
       "      <td>5</td>\n",
       "      <td>4</td>\n",
       "      <td>1</td>\n",
       "      <td>0.24</td>\n",
       "      <td>6</td>\n",
       "      <td>0.75</td>\n",
       "      <td>0.0</td>\n",
       "    </tr>\n",
       "  </tbody>\n",
       "</table>\n",
       "</div>"
      ],
      "text/plain": [
       "   instant  hr  mnth  temp  weekday   hum  windspeed\n",
       "0        1   0     1  0.24        6  0.81        0.0\n",
       "1        2   1     1  0.22        6  0.80        0.0\n",
       "2        3   2     1  0.22        6  0.80        0.0\n",
       "3        4   3     1  0.24        6  0.75        0.0\n",
       "4        5   4     1  0.24        6  0.75        0.0"
      ]
     },
     "execution_count": 3,
     "metadata": {},
     "output_type": "execute_result"
    }
   ],
   "source": [
    "df.head()"
   ]
  },
  {
   "cell_type": "code",
   "execution_count": 4,
   "metadata": {},
   "outputs": [
    {
     "name": "stdout",
     "output_type": "stream",
     "text": [
      "<class 'pandas.core.frame.DataFrame'>\n",
      "RangeIndex: 17379 entries, 0 to 17378\n",
      "Data columns (total 7 columns):\n",
      " #   Column     Non-Null Count  Dtype  \n",
      "---  ------     --------------  -----  \n",
      " 0   instant    17379 non-null  int64  \n",
      " 1   hr         17379 non-null  int64  \n",
      " 2   mnth       17379 non-null  int64  \n",
      " 3   temp       17379 non-null  float64\n",
      " 4   weekday    17379 non-null  int64  \n",
      " 5   hum        17379 non-null  float64\n",
      " 6   windspeed  17379 non-null  float64\n",
      "dtypes: float64(3), int64(4)\n",
      "memory usage: 950.5 KB\n"
     ]
    }
   ],
   "source": [
    "df.info()"
   ]
  },
  {
   "cell_type": "code",
   "execution_count": 5,
   "metadata": {},
   "outputs": [
    {
     "data": {
      "text/html": [
       "<div>\n",
       "<style scoped>\n",
       "    .dataframe tbody tr th:only-of-type {\n",
       "        vertical-align: middle;\n",
       "    }\n",
       "\n",
       "    .dataframe tbody tr th {\n",
       "        vertical-align: top;\n",
       "    }\n",
       "\n",
       "    .dataframe thead th {\n",
       "        text-align: right;\n",
       "    }\n",
       "</style>\n",
       "<table border=\"1\" class=\"dataframe\">\n",
       "  <thead>\n",
       "    <tr style=\"text-align: right;\">\n",
       "      <th></th>\n",
       "      <th>instant</th>\n",
       "      <th>hr</th>\n",
       "      <th>mnth</th>\n",
       "      <th>temp</th>\n",
       "      <th>weekday</th>\n",
       "      <th>hum</th>\n",
       "      <th>windspeed</th>\n",
       "    </tr>\n",
       "  </thead>\n",
       "  <tbody>\n",
       "    <tr>\n",
       "      <th>count</th>\n",
       "      <td>17379.0000</td>\n",
       "      <td>17379.000000</td>\n",
       "      <td>17379.000000</td>\n",
       "      <td>17379.000000</td>\n",
       "      <td>17379.000000</td>\n",
       "      <td>17379.000000</td>\n",
       "      <td>17379.000000</td>\n",
       "    </tr>\n",
       "    <tr>\n",
       "      <th>mean</th>\n",
       "      <td>8690.0000</td>\n",
       "      <td>11.546752</td>\n",
       "      <td>6.537775</td>\n",
       "      <td>0.496987</td>\n",
       "      <td>3.003683</td>\n",
       "      <td>0.627229</td>\n",
       "      <td>0.190098</td>\n",
       "    </tr>\n",
       "    <tr>\n",
       "      <th>std</th>\n",
       "      <td>5017.0295</td>\n",
       "      <td>6.914405</td>\n",
       "      <td>3.438776</td>\n",
       "      <td>0.192556</td>\n",
       "      <td>2.005771</td>\n",
       "      <td>0.192930</td>\n",
       "      <td>0.122340</td>\n",
       "    </tr>\n",
       "    <tr>\n",
       "      <th>min</th>\n",
       "      <td>1.0000</td>\n",
       "      <td>0.000000</td>\n",
       "      <td>1.000000</td>\n",
       "      <td>0.020000</td>\n",
       "      <td>0.000000</td>\n",
       "      <td>0.000000</td>\n",
       "      <td>0.000000</td>\n",
       "    </tr>\n",
       "    <tr>\n",
       "      <th>25%</th>\n",
       "      <td>4345.5000</td>\n",
       "      <td>6.000000</td>\n",
       "      <td>4.000000</td>\n",
       "      <td>0.340000</td>\n",
       "      <td>1.000000</td>\n",
       "      <td>0.480000</td>\n",
       "      <td>0.104500</td>\n",
       "    </tr>\n",
       "    <tr>\n",
       "      <th>50%</th>\n",
       "      <td>8690.0000</td>\n",
       "      <td>12.000000</td>\n",
       "      <td>7.000000</td>\n",
       "      <td>0.500000</td>\n",
       "      <td>3.000000</td>\n",
       "      <td>0.630000</td>\n",
       "      <td>0.194000</td>\n",
       "    </tr>\n",
       "    <tr>\n",
       "      <th>75%</th>\n",
       "      <td>13034.5000</td>\n",
       "      <td>18.000000</td>\n",
       "      <td>10.000000</td>\n",
       "      <td>0.660000</td>\n",
       "      <td>5.000000</td>\n",
       "      <td>0.780000</td>\n",
       "      <td>0.253700</td>\n",
       "    </tr>\n",
       "    <tr>\n",
       "      <th>max</th>\n",
       "      <td>17379.0000</td>\n",
       "      <td>23.000000</td>\n",
       "      <td>12.000000</td>\n",
       "      <td>1.000000</td>\n",
       "      <td>6.000000</td>\n",
       "      <td>1.000000</td>\n",
       "      <td>0.850700</td>\n",
       "    </tr>\n",
       "  </tbody>\n",
       "</table>\n",
       "</div>"
      ],
      "text/plain": [
       "          instant            hr          mnth          temp       weekday  \\\n",
       "count  17379.0000  17379.000000  17379.000000  17379.000000  17379.000000   \n",
       "mean    8690.0000     11.546752      6.537775      0.496987      3.003683   \n",
       "std     5017.0295      6.914405      3.438776      0.192556      2.005771   \n",
       "min        1.0000      0.000000      1.000000      0.020000      0.000000   \n",
       "25%     4345.5000      6.000000      4.000000      0.340000      1.000000   \n",
       "50%     8690.0000     12.000000      7.000000      0.500000      3.000000   \n",
       "75%    13034.5000     18.000000     10.000000      0.660000      5.000000   \n",
       "max    17379.0000     23.000000     12.000000      1.000000      6.000000   \n",
       "\n",
       "                hum     windspeed  \n",
       "count  17379.000000  17379.000000  \n",
       "mean       0.627229      0.190098  \n",
       "std        0.192930      0.122340  \n",
       "min        0.000000      0.000000  \n",
       "25%        0.480000      0.104500  \n",
       "50%        0.630000      0.194000  \n",
       "75%        0.780000      0.253700  \n",
       "max        1.000000      0.850700  "
      ]
     },
     "execution_count": 5,
     "metadata": {},
     "output_type": "execute_result"
    }
   ],
   "source": [
    "df.describe()"
   ]
  },
  {
   "cell_type": "code",
   "execution_count": 6,
   "metadata": {},
   "outputs": [
    {
     "name": "stdout",
     "output_type": "stream",
     "text": [
      "       instant  hr  mnth  temp  weekday   hum  windspeed\n",
      "0            1   0     1  0.24        6  0.81     0.0000\n",
      "2            3   2     1  0.22        6  0.80     0.0000\n",
      "4            5   4     1  0.24        6  0.75     0.0000\n",
      "6            7   6     1  0.22        6  0.80     0.0000\n",
      "8            9   8     1  0.24        6  0.75     0.0000\n",
      "...        ...  ..   ...   ...      ...   ...        ...\n",
      "17370    17371  15    12  0.28        1  0.45     0.1343\n",
      "17372    17373  17    12  0.26        1  0.48     0.0896\n",
      "17374    17375  19    12  0.26        1  0.60     0.1642\n",
      "17376    17377  21    12  0.26        1  0.60     0.1642\n",
      "17378    17379  23    12  0.26        1  0.65     0.1343\n",
      "\n",
      "[8690 rows x 7 columns]\n"
     ]
    }
   ],
   "source": [
    "df_train = df[df.instant % 2 != 0]\n",
    "print(df_train)"
   ]
  },
  {
   "cell_type": "code",
   "execution_count": 7,
   "metadata": {},
   "outputs": [
    {
     "name": "stdout",
     "output_type": "stream",
     "text": [
      "       instant  hr  mnth  temp  weekday   hum  windspeed\n",
      "4            5   4     1  0.24        6  0.75     0.0000\n",
      "9           10   9     1  0.32        6  0.76     0.0000\n",
      "14          15  14     1  0.46        6  0.72     0.2836\n",
      "19          20  19     1  0.42        6  0.88     0.2537\n",
      "24          25   0     1  0.46        0  0.88     0.2985\n",
      "...        ...  ..   ...   ...      ...   ...        ...\n",
      "17354    17355  23    12  0.20        0  0.51     0.2239\n",
      "17359    17360   4    12  0.14        1  0.69     0.1045\n",
      "17364    17365   9    12  0.18        1  0.64     0.1045\n",
      "17369    17370  14    12  0.28        1  0.45     0.2239\n",
      "17374    17375  19    12  0.26        1  0.60     0.1642\n",
      "\n",
      "[3475 rows x 7 columns]\n"
     ]
    }
   ],
   "source": [
    "df_test = df[df.instant % 5 == 0]\n",
    "print(df_test)"
   ]
  },
  {
   "cell_type": "code",
   "execution_count": 8,
   "metadata": {},
   "outputs": [
    {
     "ename": "KeyError",
     "evalue": "'casual'",
     "output_type": "error",
     "traceback": [
      "\u001b[1;31m---------------------------------------------------------------------------\u001b[0m",
      "\u001b[1;31mKeyError\u001b[0m                                  Traceback (most recent call last)",
      "\u001b[1;32m~\\Anaconda3\\lib\\site-packages\\pandas\\core\\indexes\\base.py\u001b[0m in \u001b[0;36mget_loc\u001b[1;34m(self, key, method, tolerance)\u001b[0m\n\u001b[0;32m   2645\u001b[0m             \u001b[1;32mtry\u001b[0m\u001b[1;33m:\u001b[0m\u001b[1;33m\u001b[0m\u001b[1;33m\u001b[0m\u001b[0m\n\u001b[1;32m-> 2646\u001b[1;33m                 \u001b[1;32mreturn\u001b[0m \u001b[0mself\u001b[0m\u001b[1;33m.\u001b[0m\u001b[0m_engine\u001b[0m\u001b[1;33m.\u001b[0m\u001b[0mget_loc\u001b[0m\u001b[1;33m(\u001b[0m\u001b[0mkey\u001b[0m\u001b[1;33m)\u001b[0m\u001b[1;33m\u001b[0m\u001b[1;33m\u001b[0m\u001b[0m\n\u001b[0m\u001b[0;32m   2647\u001b[0m             \u001b[1;32mexcept\u001b[0m \u001b[0mKeyError\u001b[0m\u001b[1;33m:\u001b[0m\u001b[1;33m\u001b[0m\u001b[1;33m\u001b[0m\u001b[0m\n",
      "\u001b[1;32mpandas\\_libs\\index.pyx\u001b[0m in \u001b[0;36mpandas._libs.index.IndexEngine.get_loc\u001b[1;34m()\u001b[0m\n",
      "\u001b[1;32mpandas\\_libs\\index.pyx\u001b[0m in \u001b[0;36mpandas._libs.index.IndexEngine.get_loc\u001b[1;34m()\u001b[0m\n",
      "\u001b[1;32mpandas\\_libs\\hashtable_class_helper.pxi\u001b[0m in \u001b[0;36mpandas._libs.hashtable.PyObjectHashTable.get_item\u001b[1;34m()\u001b[0m\n",
      "\u001b[1;32mpandas\\_libs\\hashtable_class_helper.pxi\u001b[0m in \u001b[0;36mpandas._libs.hashtable.PyObjectHashTable.get_item\u001b[1;34m()\u001b[0m\n",
      "\u001b[1;31mKeyError\u001b[0m: 'casual'",
      "\nDuring handling of the above exception, another exception occurred:\n",
      "\u001b[1;31mKeyError\u001b[0m                                  Traceback (most recent call last)",
      "\u001b[1;32m<ipython-input-8-e3c7e2ac95ac>\u001b[0m in \u001b[0;36m<module>\u001b[1;34m\u001b[0m\n\u001b[1;32m----> 1\u001b[1;33m \u001b[0my_train\u001b[0m\u001b[1;33m=\u001b[0m\u001b[0mdf_train\u001b[0m\u001b[1;33m[\u001b[0m\u001b[1;34m'casual'\u001b[0m\u001b[1;33m]\u001b[0m\u001b[1;33m\u001b[0m\u001b[1;33m\u001b[0m\u001b[0m\n\u001b[0m\u001b[0;32m      2\u001b[0m \u001b[0mx_train\u001b[0m\u001b[1;33m=\u001b[0m\u001b[0mdf_train\u001b[0m\u001b[1;33m[\u001b[0m\u001b[1;33m[\u001b[0m\u001b[1;34m'hr'\u001b[0m\u001b[1;33m,\u001b[0m\u001b[1;34m'mnth'\u001b[0m\u001b[1;33m,\u001b[0m\u001b[1;34m'temp'\u001b[0m\u001b[1;33m,\u001b[0m\u001b[1;34m'weekday'\u001b[0m\u001b[1;33m,\u001b[0m\u001b[1;34m'hum'\u001b[0m\u001b[1;33m,\u001b[0m\u001b[1;34m'windspeed'\u001b[0m\u001b[1;33m]\u001b[0m\u001b[1;33m]\u001b[0m\u001b[1;33m\u001b[0m\u001b[1;33m\u001b[0m\u001b[0m\n",
      "\u001b[1;32m~\\Anaconda3\\lib\\site-packages\\pandas\\core\\frame.py\u001b[0m in \u001b[0;36m__getitem__\u001b[1;34m(self, key)\u001b[0m\n\u001b[0;32m   2798\u001b[0m             \u001b[1;32mif\u001b[0m \u001b[0mself\u001b[0m\u001b[1;33m.\u001b[0m\u001b[0mcolumns\u001b[0m\u001b[1;33m.\u001b[0m\u001b[0mnlevels\u001b[0m \u001b[1;33m>\u001b[0m \u001b[1;36m1\u001b[0m\u001b[1;33m:\u001b[0m\u001b[1;33m\u001b[0m\u001b[1;33m\u001b[0m\u001b[0m\n\u001b[0;32m   2799\u001b[0m                 \u001b[1;32mreturn\u001b[0m \u001b[0mself\u001b[0m\u001b[1;33m.\u001b[0m\u001b[0m_getitem_multilevel\u001b[0m\u001b[1;33m(\u001b[0m\u001b[0mkey\u001b[0m\u001b[1;33m)\u001b[0m\u001b[1;33m\u001b[0m\u001b[1;33m\u001b[0m\u001b[0m\n\u001b[1;32m-> 2800\u001b[1;33m             \u001b[0mindexer\u001b[0m \u001b[1;33m=\u001b[0m \u001b[0mself\u001b[0m\u001b[1;33m.\u001b[0m\u001b[0mcolumns\u001b[0m\u001b[1;33m.\u001b[0m\u001b[0mget_loc\u001b[0m\u001b[1;33m(\u001b[0m\u001b[0mkey\u001b[0m\u001b[1;33m)\u001b[0m\u001b[1;33m\u001b[0m\u001b[1;33m\u001b[0m\u001b[0m\n\u001b[0m\u001b[0;32m   2801\u001b[0m             \u001b[1;32mif\u001b[0m \u001b[0mis_integer\u001b[0m\u001b[1;33m(\u001b[0m\u001b[0mindexer\u001b[0m\u001b[1;33m)\u001b[0m\u001b[1;33m:\u001b[0m\u001b[1;33m\u001b[0m\u001b[1;33m\u001b[0m\u001b[0m\n\u001b[0;32m   2802\u001b[0m                 \u001b[0mindexer\u001b[0m \u001b[1;33m=\u001b[0m \u001b[1;33m[\u001b[0m\u001b[0mindexer\u001b[0m\u001b[1;33m]\u001b[0m\u001b[1;33m\u001b[0m\u001b[1;33m\u001b[0m\u001b[0m\n",
      "\u001b[1;32m~\\Anaconda3\\lib\\site-packages\\pandas\\core\\indexes\\base.py\u001b[0m in \u001b[0;36mget_loc\u001b[1;34m(self, key, method, tolerance)\u001b[0m\n\u001b[0;32m   2646\u001b[0m                 \u001b[1;32mreturn\u001b[0m \u001b[0mself\u001b[0m\u001b[1;33m.\u001b[0m\u001b[0m_engine\u001b[0m\u001b[1;33m.\u001b[0m\u001b[0mget_loc\u001b[0m\u001b[1;33m(\u001b[0m\u001b[0mkey\u001b[0m\u001b[1;33m)\u001b[0m\u001b[1;33m\u001b[0m\u001b[1;33m\u001b[0m\u001b[0m\n\u001b[0;32m   2647\u001b[0m             \u001b[1;32mexcept\u001b[0m \u001b[0mKeyError\u001b[0m\u001b[1;33m:\u001b[0m\u001b[1;33m\u001b[0m\u001b[1;33m\u001b[0m\u001b[0m\n\u001b[1;32m-> 2648\u001b[1;33m                 \u001b[1;32mreturn\u001b[0m \u001b[0mself\u001b[0m\u001b[1;33m.\u001b[0m\u001b[0m_engine\u001b[0m\u001b[1;33m.\u001b[0m\u001b[0mget_loc\u001b[0m\u001b[1;33m(\u001b[0m\u001b[0mself\u001b[0m\u001b[1;33m.\u001b[0m\u001b[0m_maybe_cast_indexer\u001b[0m\u001b[1;33m(\u001b[0m\u001b[0mkey\u001b[0m\u001b[1;33m)\u001b[0m\u001b[1;33m)\u001b[0m\u001b[1;33m\u001b[0m\u001b[1;33m\u001b[0m\u001b[0m\n\u001b[0m\u001b[0;32m   2649\u001b[0m         \u001b[0mindexer\u001b[0m \u001b[1;33m=\u001b[0m \u001b[0mself\u001b[0m\u001b[1;33m.\u001b[0m\u001b[0mget_indexer\u001b[0m\u001b[1;33m(\u001b[0m\u001b[1;33m[\u001b[0m\u001b[0mkey\u001b[0m\u001b[1;33m]\u001b[0m\u001b[1;33m,\u001b[0m \u001b[0mmethod\u001b[0m\u001b[1;33m=\u001b[0m\u001b[0mmethod\u001b[0m\u001b[1;33m,\u001b[0m \u001b[0mtolerance\u001b[0m\u001b[1;33m=\u001b[0m\u001b[0mtolerance\u001b[0m\u001b[1;33m)\u001b[0m\u001b[1;33m\u001b[0m\u001b[1;33m\u001b[0m\u001b[0m\n\u001b[0;32m   2650\u001b[0m         \u001b[1;32mif\u001b[0m \u001b[0mindexer\u001b[0m\u001b[1;33m.\u001b[0m\u001b[0mndim\u001b[0m \u001b[1;33m>\u001b[0m \u001b[1;36m1\u001b[0m \u001b[1;32mor\u001b[0m \u001b[0mindexer\u001b[0m\u001b[1;33m.\u001b[0m\u001b[0msize\u001b[0m \u001b[1;33m>\u001b[0m \u001b[1;36m1\u001b[0m\u001b[1;33m:\u001b[0m\u001b[1;33m\u001b[0m\u001b[1;33m\u001b[0m\u001b[0m\n",
      "\u001b[1;32mpandas\\_libs\\index.pyx\u001b[0m in \u001b[0;36mpandas._libs.index.IndexEngine.get_loc\u001b[1;34m()\u001b[0m\n",
      "\u001b[1;32mpandas\\_libs\\index.pyx\u001b[0m in \u001b[0;36mpandas._libs.index.IndexEngine.get_loc\u001b[1;34m()\u001b[0m\n",
      "\u001b[1;32mpandas\\_libs\\hashtable_class_helper.pxi\u001b[0m in \u001b[0;36mpandas._libs.hashtable.PyObjectHashTable.get_item\u001b[1;34m()\u001b[0m\n",
      "\u001b[1;32mpandas\\_libs\\hashtable_class_helper.pxi\u001b[0m in \u001b[0;36mpandas._libs.hashtable.PyObjectHashTable.get_item\u001b[1;34m()\u001b[0m\n",
      "\u001b[1;31mKeyError\u001b[0m: 'casual'"
     ]
    }
   ],
   "source": [
    "y_train=df_train['casual']\n",
    "x_train=df_train[['hr','mnth','temp','weekday','hum','windspeed']]"
   ]
  },
  {
   "cell_type": "code",
   "execution_count": null,
   "metadata": {},
   "outputs": [],
   "source": [
    "print(x_train.shape)\n",
    "print(y_train.shape)"
   ]
  },
  {
   "cell_type": "code",
   "execution_count": null,
   "metadata": {},
   "outputs": [],
   "source": [
    "hr = df_train['hr'].values.tolist() #convert data to list \n",
    "len(hr)"
   ]
  },
  {
   "cell_type": "code",
   "execution_count": null,
   "metadata": {},
   "outputs": [],
   "source": [
    "mnth = df_train['mnth'].values.tolist()\n",
    "len(mnth)"
   ]
  },
  {
   "cell_type": "code",
   "execution_count": null,
   "metadata": {},
   "outputs": [],
   "source": [
    "temp = df_train['temp'].values.tolist()\n",
    "len(temp)"
   ]
  },
  {
   "cell_type": "code",
   "execution_count": null,
   "metadata": {},
   "outputs": [],
   "source": [
    "weekday = df_train['weekday'].values.tolist()\n",
    "len(weekday)"
   ]
  },
  {
   "cell_type": "code",
   "execution_count": null,
   "metadata": {},
   "outputs": [],
   "source": [
    "hum = df_train['hum'].values.tolist()\n",
    "len(hum)"
   ]
  },
  {
   "cell_type": "code",
   "execution_count": null,
   "metadata": {
    "scrolled": true
   },
   "outputs": [],
   "source": [
    "windspeed = df_train['windspeed'].values.tolist()\n",
    "len(windspeed)"
   ]
  },
  {
   "cell_type": "code",
   "execution_count": null,
   "metadata": {},
   "outputs": [],
   "source": [
    "casual = df_train['casual'].values.tolist()\n",
    "len(casual)"
   ]
  },
  {
   "cell_type": "code",
   "execution_count": null,
   "metadata": {},
   "outputs": [],
   "source": [
    "list = []"
   ]
  },
  {
   "cell_type": "code",
   "execution_count": null,
   "metadata": {},
   "outputs": [],
   "source": [
    "#cross correlation"
   ]
  },
  {
   "cell_type": "code",
   "execution_count": 85,
   "metadata": {},
   "outputs": [
    {
     "name": "stdout",
     "output_type": "stream",
     "text": [
      "515.2294591484485\n"
     ]
    }
   ],
   "source": [
    "crosscorrel1 = sum([((hr * casual)/8690) for hr,casual in zip(hr,casual)])\n",
    "print(crosscorrel1)\n"
   ]
  },
  {
   "cell_type": "code",
   "execution_count": 88,
   "metadata": {},
   "outputs": [
    {
     "name": "stdout",
     "output_type": "stream",
     "text": [
      "244.67364787111788\n"
     ]
    }
   ],
   "source": [
    "crosscorrel2 = sum([((mnth * casual)/8690) for mnth,casual in zip(mnth,casual)])\n",
    "print(crosscorrel2)\n"
   ]
  },
  {
   "cell_type": "code",
   "execution_count": 87,
   "metadata": {},
   "outputs": [
    {
     "name": "stdout",
     "output_type": "stream",
     "text": [
      "22.094598388952743\n"
     ]
    }
   ],
   "source": [
    "crosscorrel3 = sum([((temp * casual)/8690) for temp,casual in zip(temp,casual)])\n",
    "print(crosscorrel3)"
   ]
  },
  {
   "cell_type": "code",
   "execution_count": 90,
   "metadata": {},
   "outputs": [
    {
     "name": "stdout",
     "output_type": "stream",
     "text": [
      "110.49551208285403\n"
     ]
    }
   ],
   "source": [
    "crosscorrel4 = sum([((weekday * casual)/8690) for weekday,casual in zip(weekday,casual)])\n",
    "print(crosscorrel4)"
   ]
  },
  {
   "cell_type": "code",
   "execution_count": 91,
   "metadata": {},
   "outputs": [
    {
     "name": "stdout",
     "output_type": "stream",
     "text": [
      "19.07533256616804\n"
     ]
    }
   ],
   "source": [
    "crosscorrel5 = sum([((hum * casual)/8690) for hum,casual in zip(hum,casual)])\n",
    "print(crosscorrel5)"
   ]
  },
  {
   "cell_type": "code",
   "execution_count": 174,
   "metadata": {},
   "outputs": [
    {
     "name": "stdout",
     "output_type": "stream",
     "text": [
      "7.308107836593802\n"
     ]
    }
   ],
   "source": [
    "crosscorrel6 = sum([((windspeed * casual)/8690) for windspeed,casual in zip(windspeed,casual)])\n",
    "print(crosscorrel6)"
   ]
  },
  {
   "cell_type": "code",
   "execution_count": 96,
   "metadata": {},
   "outputs": [
    {
     "name": "stdout",
     "output_type": "stream",
     "text": [
      "[515.2294591484485, 244.67364787111788, 22.094598388952743, 110.49551208285403, 19.07533256616804, 7.308107836593802]\n"
     ]
    }
   ],
   "source": [
    "\n",
    "list.append(crosscorrel1)\n",
    "list.append(crosscorrel2)\n",
    "list.append(crosscorrel3)\n",
    "list.append(crosscorrel4)\n",
    "list.append(crosscorrel5)\n",
    "list.append(crosscorrel6)\n",
    "print(list)"
   ]
  },
  {
   "cell_type": "code",
   "execution_count": 148,
   "metadata": {},
   "outputs": [
    {
     "name": "stdout",
     "output_type": "stream",
     "text": [
      "\n",
      " matrix is:\n",
      " [[515.22945915 244.67364787  22.09459839 110.49551208  19.07533257\n",
      "    7.30810784]]\n",
      "The dimension of the matrix is : (1, 6)\n"
     ]
    }
   ],
   "source": [
    "b = np.matrix('515.2294591484485, 244.67364787111788, 22.094598388952743, 110.49551208285403, 19.07533256616804, 7.308107836593802')  # limiting the data-type to int\n",
    "print('\\n matrix is:\\n', b)\n",
    "# using shape attribute to get the tuple describing matrix shape\n",
    "print('The dimension of the matrix is :', b.shape)\n"
   ]
  },
  {
   "cell_type": "code",
   "execution_count": 171,
   "metadata": {},
   "outputs": [
    {
     "name": "stdout",
     "output_type": "stream",
     "text": [
      "[[515.22945915]\n",
      " [244.67364787]\n",
      " [ 22.09459839]\n",
      " [110.49551208]\n",
      " [ 19.07533257]\n",
      " [  7.30810784]]\n",
      "The dimension of the matrix R0 is : (6, 1)\n"
     ]
    }
   ],
   "source": [
    "R0 = b.transpose()\n",
    "print(R0)\n",
    "print('The dimension of the matrix R0 is :', R0.shape)"
   ]
  },
  {
   "cell_type": "code",
   "execution_count": null,
   "metadata": {},
   "outputs": [],
   "source": [
    "#correlation matrix"
   ]
  },
  {
   "cell_type": "code",
   "execution_count": 144,
   "metadata": {},
   "outputs": [
    {
     "name": "stdout",
     "output_type": "stream",
     "text": [
      "182.8405063291175\n",
      "75.91829689298012\n",
      "5.954807825086271\n",
      "34.85569620253138\n",
      "6.926104718066819\n",
      "2.3154127272727183\n"
     ]
    }
   ],
   "source": [
    "e11 = sum([((hr * hr)/8690) for hr,hr in zip(hr,hr)])\n",
    "print(e11)\n",
    "e12 = sum([((hr * mnth)/8690) for hr,mnth in zip(hr,mnth)])\n",
    "print(e12)\n",
    "e13 = sum([((hr * temp)/8690) for hr,temp in zip(hr,temp)])\n",
    "print(e13)\n",
    "e14 = sum([((hr * weekday)/8690) for hr,weekday in zip(hr,weekday)])\n",
    "print(e14)\n",
    "e15 = sum([((hr * hum)/8690) for hr,hum in zip(hr,hum)])\n",
    "print(e15)\n",
    "e16 = sum([((hr * windspeed)/8690) for hr,windspeed in zip(hr,windspeed)])\n",
    "print(e16)"
   ]
  },
  {
   "cell_type": "code",
   "execution_count": 156,
   "metadata": {},
   "outputs": [
    {
     "name": "stdout",
     "output_type": "stream",
     "text": [
      "\n",
      " Row1 is:\n",
      " [[182.84050633  75.91829689   5.95480783  34.8556962    6.92610472\n",
      "    2.31541273]]\n"
     ]
    }
   ],
   "source": [
    "R1 = np.matrix('182.8405063291175, 75.91829689298012, 5.954807825086271, 34.85569620253138, 6.926104718066819, 2.3154127272727183')  # limiting the data-type to int\n",
    "print('\\n Row1 is:\\n', R1) #row 1"
   ]
  },
  {
   "cell_type": "code",
   "execution_count": 158,
   "metadata": {},
   "outputs": [
    {
     "name": "stdout",
     "output_type": "stream",
     "text": [
      "75.91829689298012\n",
      "54.56973532796136\n",
      "3.383153049482137\n",
      "19.712313003452515\n",
      "4.211239355581131\n",
      "1.1839857767548843\n"
     ]
    }
   ],
   "source": [
    "e21 = e12\n",
    "print(e21)\n",
    "e22 = sum([((mnth * mnth)/8690) for mnth,mnth in zip(mnth,mnth)])\n",
    "print(e22)\n",
    "e23 = sum([((mnth * temp)/8690) for mnth,temp in zip(mnth,temp)])\n",
    "print(e23)\n",
    "e24 = sum([((mnth * weekday)/8690) for mnth,weekday in zip(mnth,weekday)])\n",
    "print(e24)\n",
    "e25 = sum([((mnth * hum)/8690) for mnth,hum in zip(mnth,hum)])\n",
    "print(e25)\n",
    "e26 = sum([((mnth * windspeed)/8690) for mnth,windspeed in zip(mnth,windspeed)])\n",
    "print(e26)"
   ]
  },
  {
   "cell_type": "code",
   "execution_count": 159,
   "metadata": {},
   "outputs": [
    {
     "name": "stdout",
     "output_type": "stream",
     "text": [
      "\n",
      " Row2 is:\n",
      " [[75.91829689 54.56973533  3.38315305 19.712313    4.21123936  1.18398578]]\n"
     ]
    }
   ],
   "source": [
    "R2 = np.matrix('75.91829689298012, 54.56973532796136, 3.383153049482137, 19.712313003452515, 4.211239355581131, 1.1839857767548843')  # limiting the data-type to int\n",
    "print('\\n Row2 is:\\n', R2) #row 2"
   ]
  },
  {
   "cell_type": "code",
   "execution_count": 161,
   "metadata": {},
   "outputs": [
    {
     "name": "stdout",
     "output_type": "stream",
     "text": [
      "5.954807825086271\n",
      "3.383153049482137\n",
      "0.2841537859608781\n",
      "1.4920115074798508\n",
      "0.3092558573072513\n",
      "0.09379834522439558\n"
     ]
    }
   ],
   "source": [
    "e31 = e13\n",
    "print(e31)\n",
    "e32 = e23\n",
    "print(e32)\n",
    "e33 = sum([((temp * temp)/8690) for temp,temp in zip(temp,temp)])\n",
    "print(e33)\n",
    "e34 = sum([((temp * weekday)/8690) for temp,weekday in zip(temp,weekday)])\n",
    "print(e34)\n",
    "e35 = sum([((temp * hum )/8690) for temp,hum in zip(temp,hum)])\n",
    "print(e35)\n",
    "e36 = sum([((temp * windspeed)/8690) for temp,windspeed in zip(temp,windspeed)])\n",
    "print(e36)"
   ]
  },
  {
   "cell_type": "code",
   "execution_count": 163,
   "metadata": {},
   "outputs": [
    {
     "name": "stdout",
     "output_type": "stream",
     "text": [
      "\n",
      " Row3 is:\n",
      " [[5.95480783 3.38315305 0.28415379 1.49201151 0.30925586 0.09379835]]\n"
     ]
    }
   ],
   "source": [
    "R3 = np.matrix('5.954807825086271, 3.383153049482137, 0.2841537859608781, 1.4920115074798508, 0.3092558573072513, 0.09379834522439558')  # limiting the data-type to int\n",
    "print('\\n Row3 is:\\n', R3) #row 3"
   ]
  },
  {
   "cell_type": "code",
   "execution_count": 165,
   "metadata": {},
   "outputs": [
    {
     "name": "stdout",
     "output_type": "stream",
     "text": [
      "34.85569620253138\n",
      "19.712313003452515\n",
      "1.4920115074798508\n",
      "13.04487917146127\n",
      "1.8704948216340522\n",
      "0.5739500690448739\n"
     ]
    }
   ],
   "source": [
    "e41 = e14\n",
    "print(e41)\n",
    "e42 = e24\n",
    "print(e42)\n",
    "e43 = e34\n",
    "print(e43)\n",
    "e44 = sum([((weekday * weekday)/8690) for weekday,weekday in zip(weekday,weekday)])\n",
    "print(e44)\n",
    "e45 = sum([((weekday * hum )/8690) for weekday,hum in zip(weekday,hum)])\n",
    "print(e45)\n",
    "e46 = sum([((weekday * windspeed )/8690) for weekday,windspeed in zip(weekday,windspeed)])\n",
    "print(e46)"
   ]
  },
  {
   "cell_type": "code",
   "execution_count": 167,
   "metadata": {},
   "outputs": [
    {
     "name": "stdout",
     "output_type": "stream",
     "text": [
      "\n",
      " Row4 is:\n",
      " [[34.8556962  19.712313    1.49201151 13.04487917  1.87049482  0.57395007]]\n"
     ]
    }
   ],
   "source": [
    "R4 = np.matrix('34.85569620253138, 19.712313003452515, 1.4920115074798508,  13.04487917146127, 1.8704948216340522, 0.5739500690448739')  # limiting the data-type to int\n",
    "print('\\n Row4 is:\\n', R4) #row 4"
   ]
  },
  {
   "cell_type": "code",
   "execution_count": 168,
   "metadata": {},
   "outputs": [
    {
     "name": "stdout",
     "output_type": "stream",
     "text": [
      "6.926104718066819\n",
      "4.211239355581131\n",
      "0.3092558573072513\n",
      "1.8704948216340522\n",
      "0.43071116225548023\n",
      "0.11227048653624837\n"
     ]
    }
   ],
   "source": [
    "e51 = e15\n",
    "print(e51)\n",
    "e52 = e25\n",
    "print(e52)\n",
    "e53 = e35\n",
    "print(e53)\n",
    "e54 = e45\n",
    "print(e54)\n",
    "e55 = sum([((hum * hum )/8690) for hum,hum in zip(hum,hum)])\n",
    "print(e55)\n",
    "e56 = sum([((hum * windspeed )/8690) for hum,windspeed in zip(hum,windspeed)])\n",
    "print(e56)"
   ]
  },
  {
   "cell_type": "code",
   "execution_count": 169,
   "metadata": {},
   "outputs": [
    {
     "name": "stdout",
     "output_type": "stream",
     "text": [
      "\n",
      " Row5 is:\n",
      " [[6.92610472 4.21123936 0.30925586 1.87049482 0.43071116 0.11227049]]\n"
     ]
    }
   ],
   "source": [
    "R5 = np.matrix('6.926104718066819, 4.211239355581131, 0.3092558573072513, 1.8704948216340522, 0.43071116225548023, 0.11227048653624837')  # limiting the data-type to int\n",
    "print('\\n Row5 is:\\n', R5) #row 5"
   ]
  },
  {
   "cell_type": "code",
   "execution_count": 170,
   "metadata": {},
   "outputs": [
    {
     "name": "stdout",
     "output_type": "stream",
     "text": [
      "2.3154127272727183\n",
      "1.1839857767548843\n",
      "0.09379834522439558\n",
      "0.5739500690448739\n",
      "0.11227048653624837\n",
      "0.0510117986260058\n"
     ]
    }
   ],
   "source": [
    "e61 = e16\n",
    "print(e61)\n",
    "e62 = e26\n",
    "print(e62)\n",
    "e63 = e36\n",
    "print(e63)\n",
    "e64 = e46\n",
    "print(e64)\n",
    "e65 = e56\n",
    "print(e65)\n",
    "e66 = sum([((windspeed * windspeed )/8690) for windspeed,windspeed in zip(windspeed,windspeed)])\n",
    "print(e66)"
   ]
  },
  {
   "cell_type": "code",
   "execution_count": 172,
   "metadata": {},
   "outputs": [
    {
     "name": "stdout",
     "output_type": "stream",
     "text": [
      "\n",
      " Row6 is:\n",
      " [[2.31541273 1.18398578 0.09379835 0.57395007 0.11227049 0.0510118 ]]\n"
     ]
    }
   ],
   "source": [
    "R6 = np.matrix('2.3154127272727183, 1.1839857767548843, 0.09379834522439558, 0.5739500690448739, 0.11227048653624837, 0.0510117986260058')  # limiting the data-type to int\n",
    "print('\\n Row6 is:\\n', R6) #row 6"
   ]
  },
  {
   "cell_type": "code",
   "execution_count": 173,
   "metadata": {},
   "outputs": [
    {
     "name": "stdout",
     "output_type": "stream",
     "text": [
      "[[182.84050633  75.91829689   5.95480783  34.8556962    6.92610472\n",
      "    2.31541273]]\n",
      "[[75.91829689 54.56973533  3.38315305 19.712313    4.21123936  1.18398578]]\n",
      "[[5.95480783 3.38315305 0.28415379 1.49201151 0.30925586 0.09379835]]\n",
      "[[34.8556962  19.712313    1.49201151 13.04487917  1.87049482  0.57395007]]\n",
      "[[6.92610472 4.21123936 0.30925586 1.87049482 0.43071116 0.11227049]]\n",
      "[[2.31541273 1.18398578 0.09379835 0.57395007 0.11227049 0.0510118 ]]\n"
     ]
    }
   ],
   "source": [
    "print(R1)\n",
    "print(R2)\n",
    "print(R3)\n",
    "print(R4)\n",
    "print(R5)\n",
    "print(R6)"
   ]
  },
  {
   "cell_type": "code",
   "execution_count": null,
   "metadata": {},
   "outputs": [],
   "source": []
  },
  {
   "cell_type": "code",
   "execution_count": 175,
   "metadata": {},
   "outputs": [],
   "source": [
    "y_test=df_test['casual']\n",
    "x_test=df_test[['hr','mnth','temp','weekday','hum','windspeed']]"
   ]
  },
  {
   "cell_type": "code",
   "execution_count": null,
   "metadata": {},
   "outputs": [],
   "source": []
  },
  {
   "cell_type": "code",
   "execution_count": 176,
   "metadata": {},
   "outputs": [
    {
     "name": "stdout",
     "output_type": "stream",
     "text": [
      "(3475, 6)\n",
      "(3475,)\n"
     ]
    }
   ],
   "source": [
    "print(x_test.shape)\n",
    "print(y_test.shape)"
   ]
  },
  {
   "cell_type": "code",
   "execution_count": null,
   "metadata": {},
   "outputs": [],
   "source": []
  }
 ],
 "metadata": {
  "kernelspec": {
   "display_name": "Python 3",
   "language": "python",
   "name": "python3"
  },
  "language_info": {
   "codemirror_mode": {
    "name": "ipython",
    "version": 3
   },
   "file_extension": ".py",
   "mimetype": "text/x-python",
   "name": "python",
   "nbconvert_exporter": "python",
   "pygments_lexer": "ipython3",
   "version": "3.7.6"
  }
 },
 "nbformat": 4,
 "nbformat_minor": 2
}
